{
 "cells": [
  {
   "cell_type": "markdown",
   "metadata": {},
   "source": [
    "link for refreance - https://realpython.com/build-llm-rag-chatbot-with-langchain/"
   ]
  },
  {
   "cell_type": "code",
   "execution_count": 1,
   "metadata": {},
   "outputs": [],
   "source": [
    "#pip install langchain==0.1.0 openai==1.7.2 langchain-openai==0.0.2 langchain-community==0.0.12 langchainhub==0.1.14"
   ]
  },
  {
   "cell_type": "code",
   "execution_count": 2,
   "metadata": {},
   "outputs": [],
   "source": [
    "#pip install python-dotenv"
   ]
  },
  {
   "cell_type": "code",
   "execution_count": 3,
   "metadata": {},
   "outputs": [],
   "source": [
    "from langchain.schema.messages import HumanMessage, SystemMessage\n",
    "from langchain_intro.chatbot import chat_model"
   ]
  },
  {
   "cell_type": "code",
   "execution_count": 4,
   "metadata": {},
   "outputs": [],
   "source": [
    "messages = [SystemMessage(content=\"\"\"You're an assistant knowledgeable about healthcare. Only answer healthcare-related questions.\"\"\"), \n",
    "HumanMessage(content=\"What is Medicaid managed care?\")]"
   ]
  },
  {
   "cell_type": "code",
   "execution_count": 6,
   "metadata": {},
   "outputs": [
    {
     "data": {
      "text/plain": [
       "\"AIMessage(content='Medicaid managed care is a healthcare delivery system\\nin which states contract with managed care organizations (MCOs) to provide\\nhealthcare services to Medicaid beneficiaries. Under this system, MCOs are\\nresponsible for coordinating and delivering healthcare services to enrollees,\\nincluding primary care, specialty care, hospital services, and prescription\\ndrugs. Medicaid managed care aims to improve care coordination, control costs,\\nand enhance the quality of care for Medicaid beneficiaries.')\""
      ]
     },
     "execution_count": 6,
     "metadata": {},
     "output_type": "execute_result"
    }
   ],
   "source": [
    "#chat_model.invoke(messages)\n",
    "'''AIMessage(content='Medicaid managed care is a healthcare delivery system\n",
    "in which states contract with managed care organizations (MCOs) to provide\n",
    "healthcare services to Medicaid beneficiaries. Under this system, MCOs are\n",
    "responsible for coordinating and delivering healthcare services to enrollees,\n",
    "including primary care, specialty care, hospital services, and prescription\n",
    "drugs. Medicaid managed care aims to improve care coordination, control costs,\n",
    "and enhance the quality of care for Medicaid beneficiaries.')'''"
   ]
  },
  {
   "cell_type": "code",
   "execution_count": 7,
   "metadata": {},
   "outputs": [
    {
     "data": {
      "text/plain": [
       "\"AIMessage(content='I apologize, but I can only provide assistance\\nand answer questions related to healthcare.')\""
      ]
     },
     "execution_count": 7,
     "metadata": {},
     "output_type": "execute_result"
    }
   ],
   "source": [
    "#messages = [SystemMessage(content=\"\"\"You're an assistant knowledgeable about healthcare. Only answer healthcare-related questions.\"\"\"), HumanMessage(content=\"How do I change a tire?\")]\n",
    "#chat_model.invoke(messages)\n",
    "'''AIMessage(content='I apologize, but I can only provide assistance\n",
    "and answer questions related to healthcare.')'''"
   ]
  },
  {
   "cell_type": "code",
   "execution_count": 32,
   "metadata": {},
   "outputs": [],
   "source": [
    "from langchain.prompts import ChatPromptTemplate\n",
    "review_template_str = \"\"\"Your job is to use patient reviews to answer questions about \n",
    "their experience at a hospital. Use the following context to answer questions. \n",
    "Be as detailed as possible,  but don't make up any information that's not from the context.\n",
    " If you don't know an answer, say you don't know. \\n{context} \\n{question}\"\"\""
   ]
  },
  {
   "cell_type": "code",
   "execution_count": 33,
   "metadata": {},
   "outputs": [
    {
     "data": {
      "text/plain": [
       "ChatPromptTemplate(input_variables=['context', 'question'], messages=[HumanMessagePromptTemplate(prompt=PromptTemplate(input_variables=['context', 'question'], template=\"Your job is to use patient reviews to answer questions about \\ntheir experience at a hospital. Use the following context to answer questions. \\nBe as detailed as possible,  but don't make up any information that's not from the context.\\n If you don't know an answer, say you don't know. \\n{context} \\n{question}\"))])"
      ]
     },
     "execution_count": 33,
     "metadata": {},
     "output_type": "execute_result"
    }
   ],
   "source": [
    "review_template = ChatPromptTemplate.from_template(review_template_str)\n",
    "review_template"
   ]
  },
  {
   "cell_type": "code",
   "execution_count": 34,
   "metadata": {},
   "outputs": [],
   "source": [
    "context = \"I had a great stay!\"\n",
    "question = \"Did anyone have a positive experience?\"\n"
   ]
  },
  {
   "cell_type": "code",
   "execution_count": 35,
   "metadata": {},
   "outputs": [
    {
     "data": {
      "text/plain": [
       "\"Human: Your job is to use patient reviews to answer questions about \\ntheir experience at a hospital. Use the following context to answer questions. \\nBe as detailed as possible,  but don't make up any information that's not from the context.\\n If you don't know an answer, say you don't know. \\nI had a great stay! \\nDid anyone have a positive experience?\""
      ]
     },
     "execution_count": 35,
     "metadata": {},
     "output_type": "execute_result"
    }
   ],
   "source": [
    "review_template.format(context=context, question=question)"
   ]
  },
  {
   "cell_type": "code",
   "execution_count": 47,
   "metadata": {},
   "outputs": [
    {
     "name": "stdout",
     "output_type": "stream",
     "text": [
      "/workspaces/chat-hospital\n"
     ]
    },
    {
     "name": "stderr",
     "output_type": "stream",
     "text": [
      "/home/codespace/.local/lib/python3.10/site-packages/IPython/core/magics/osm.py:417: UserWarning: This is now an optional IPython functionality, setting dhist requires you to install the `pickleshare` library.\n",
      "  self.shell.db['dhist'] = compress_dhist(dhist)[-100:]\n"
     ]
    }
   ],
   "source": [
    "cd ../"
   ]
  },
  {
   "cell_type": "code",
   "execution_count": 3,
   "metadata": {},
   "outputs": [],
   "source": [
    "from langchain_intro.chatbot import review_chain\n",
    "context = \"I had a great stay!\"\n",
    "question = \"Did anyone have a positive experience?\"\n"
   ]
  },
  {
   "cell_type": "code",
   "execution_count": 4,
   "metadata": {},
   "outputs": [
    {
     "data": {
      "text/plain": [
       "\"AIMessage(content='Yes, the patient had a great stay and had a\\npositive experience at the hospital.')\""
      ]
     },
     "execution_count": 4,
     "metadata": {},
     "output_type": "execute_result"
    }
   ],
   "source": [
    "#review_chain.invoke({\"context\": context, \"question\": question})\n",
    "'''AIMessage(content='Yes, the patient had a great stay and had a\n",
    "positive experience at the hospital.')'''"
   ]
  },
  {
   "cell_type": "code",
   "execution_count": null,
   "metadata": {},
   "outputs": [],
   "source": []
  }
 ],
 "metadata": {
  "kernelspec": {
   "display_name": "Python 3 (ipykernel)",
   "language": "python",
   "name": "python3"
  },
  "language_info": {
   "codemirror_mode": {
    "name": "ipython",
    "version": 3
   },
   "file_extension": ".py",
   "mimetype": "text/x-python",
   "name": "python",
   "nbconvert_exporter": "python",
   "pygments_lexer": "ipython3",
   "version": "3.10.13"
  }
 },
 "nbformat": 4,
 "nbformat_minor": 2
}
