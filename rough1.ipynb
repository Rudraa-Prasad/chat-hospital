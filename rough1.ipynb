{
 "cells": [
  {
   "cell_type": "markdown",
   "metadata": {},
   "source": [
    "link for refreance - https://realpython.com/build-llm-rag-chatbot-with-langchain/"
   ]
  },
  {
   "cell_type": "code",
   "execution_count": 1,
   "metadata": {},
   "outputs": [],
   "source": [
    "#pip install langchain==0.1.0 openai==1.7.2 langchain-openai==0.0.2 langchain-community==0.0.12 langchainhub==0.1.14"
   ]
  },
  {
   "cell_type": "code",
   "execution_count": 6,
   "metadata": {},
   "outputs": [
    {
     "name": "stdout",
     "output_type": "stream",
     "text": [
      "/home/codespace/.python/current/bin/python\n",
      "1.4.0\n"
     ]
    }
   ],
   "source": [
    "#pip install python-dotenv\n",
    "import sys \n",
    "print(sys.executable)\n",
    "import polars as pd\n",
    "print(pd.__version__)\n"
   ]
  },
  {
   "cell_type": "code",
   "execution_count": 3,
   "metadata": {},
   "outputs": [],
   "source": [
    "from langchain.schema.messages import HumanMessage, SystemMessage\n",
    "from langchain_intro.chatbot import chat_model"
   ]
  },
  {
   "cell_type": "code",
   "execution_count": 4,
   "metadata": {},
   "outputs": [],
   "source": [
    "messages = [SystemMessage(content=\"\"\"You're an assistant knowledgeable about healthcare. Only answer healthcare-related questions.\"\"\"), \n",
    "HumanMessage(content=\"What is Medicaid managed care?\")]"
   ]
  },
  {
   "cell_type": "code",
   "execution_count": 6,
   "metadata": {},
   "outputs": [
    {
     "data": {
      "text/plain": [
       "\"AIMessage(content='Medicaid managed care is a healthcare delivery system\\nin which states contract with managed care organizations (MCOs) to provide\\nhealthcare services to Medicaid beneficiaries. Under this system, MCOs are\\nresponsible for coordinating and delivering healthcare services to enrollees,\\nincluding primary care, specialty care, hospital services, and prescription\\ndrugs. Medicaid managed care aims to improve care coordination, control costs,\\nand enhance the quality of care for Medicaid beneficiaries.')\""
      ]
     },
     "execution_count": 6,
     "metadata": {},
     "output_type": "execute_result"
    }
   ],
   "source": [
    "#chat_model.invoke(messages)\n",
    "'''AIMessage(content='Medicaid managed care is a healthcare delivery system\n",
    "in which states contract with managed care organizations (MCOs) to provide\n",
    "healthcare services to Medicaid beneficiaries. Under this system, MCOs are\n",
    "responsible for coordinating and delivering healthcare services to enrollees,\n",
    "including primary care, specialty care, hospital services, and prescription\n",
    "drugs. Medicaid managed care aims to improve care coordination, control costs,\n",
    "and enhance the quality of care for Medicaid beneficiaries.')'''"
   ]
  },
  {
   "cell_type": "code",
   "execution_count": 7,
   "metadata": {},
   "outputs": [
    {
     "data": {
      "text/plain": [
       "\"AIMessage(content='I apologize, but I can only provide assistance\\nand answer questions related to healthcare.')\""
      ]
     },
     "execution_count": 7,
     "metadata": {},
     "output_type": "execute_result"
    }
   ],
   "source": [
    "#messages = [SystemMessage(content=\"\"\"You're an assistant knowledgeable about healthcare. Only answer healthcare-related questions.\"\"\"), HumanMessage(content=\"How do I change a tire?\")]\n",
    "#chat_model.invoke(messages)\n",
    "'''AIMessage(content='I apologize, but I can only provide assistance\n",
    "and answer questions related to healthcare.')'''"
   ]
  },
  {
   "cell_type": "code",
   "execution_count": 32,
   "metadata": {},
   "outputs": [],
   "source": [
    "from langchain.prompts import ChatPromptTemplate\n",
    "review_template_str = \"\"\"Your job is to use patient reviews to answer questions about \n",
    "their experience at a hospital. Use the following context to answer questions. \n",
    "Be as detailed as possible,  but don't make up any information that's not from the context.\n",
    " If you don't know an answer, say you don't know. \\n{context} \\n{question}\"\"\""
   ]
  },
  {
   "cell_type": "code",
   "execution_count": 33,
   "metadata": {},
   "outputs": [
    {
     "data": {
      "text/plain": [
       "ChatPromptTemplate(input_variables=['context', 'question'], messages=[HumanMessagePromptTemplate(prompt=PromptTemplate(input_variables=['context', 'question'], template=\"Your job is to use patient reviews to answer questions about \\ntheir experience at a hospital. Use the following context to answer questions. \\nBe as detailed as possible,  but don't make up any information that's not from the context.\\n If you don't know an answer, say you don't know. \\n{context} \\n{question}\"))])"
      ]
     },
     "execution_count": 33,
     "metadata": {},
     "output_type": "execute_result"
    }
   ],
   "source": [
    "review_template = ChatPromptTemplate.from_template(review_template_str)\n",
    "review_template"
   ]
  },
  {
   "cell_type": "code",
   "execution_count": 34,
   "metadata": {},
   "outputs": [],
   "source": [
    "context = \"I had a great stay!\"\n",
    "question = \"Did anyone have a positive experience?\"\n"
   ]
  },
  {
   "cell_type": "code",
   "execution_count": 35,
   "metadata": {},
   "outputs": [
    {
     "data": {
      "text/plain": [
       "\"Human: Your job is to use patient reviews to answer questions about \\ntheir experience at a hospital. Use the following context to answer questions. \\nBe as detailed as possible,  but don't make up any information that's not from the context.\\n If you don't know an answer, say you don't know. \\nI had a great stay! \\nDid anyone have a positive experience?\""
      ]
     },
     "execution_count": 35,
     "metadata": {},
     "output_type": "execute_result"
    }
   ],
   "source": [
    "review_template.format(context=context, question=question)"
   ]
  },
  {
   "cell_type": "code",
   "execution_count": 47,
   "metadata": {},
   "outputs": [
    {
     "name": "stdout",
     "output_type": "stream",
     "text": [
      "/workspaces/chat-hospital\n"
     ]
    },
    {
     "name": "stderr",
     "output_type": "stream",
     "text": [
      "/home/codespace/.local/lib/python3.10/site-packages/IPython/core/magics/osm.py:417: UserWarning: This is now an optional IPython functionality, setting dhist requires you to install the `pickleshare` library.\n",
      "  self.shell.db['dhist'] = compress_dhist(dhist)[-100:]\n"
     ]
    }
   ],
   "source": [
    "cd ../"
   ]
  },
  {
   "cell_type": "code",
   "execution_count": 3,
   "metadata": {},
   "outputs": [],
   "source": [
    "from langchain_intro.chatbot import review_chain\n",
    "context = \"I had a great stay!\"\n",
    "question = \"Did anyone have a positive experience?\"\n"
   ]
  },
  {
   "cell_type": "code",
   "execution_count": 4,
   "metadata": {},
   "outputs": [
    {
     "data": {
      "text/plain": [
       "\"AIMessage(content='Yes, the patient had a great stay and had a\\npositive experience at the hospital.')\""
      ]
     },
     "execution_count": 4,
     "metadata": {},
     "output_type": "execute_result"
    }
   ],
   "source": [
    "#review_chain.invoke({\"context\": context, \"question\": question})\n",
    "'''AIMessage(content='Yes, the patient had a great stay and had a\n",
    "positive experience at the hospital.')'''"
   ]
  },
  {
   "cell_type": "code",
   "execution_count": 14,
   "metadata": {},
   "outputs": [
    {
     "name": "stdout",
     "output_type": "stream",
     "text": [
      "(30, 3)\n"
     ]
    },
    {
     "data": {
      "text/html": [
       "<div><style>\n",
       ".dataframe > thead > tr,\n",
       ".dataframe > tbody > tr {\n",
       "  text-align: right;\n",
       "  white-space: pre-wrap;\n",
       "}\n",
       "</style>\n",
       "<small>shape: (5, 3)</small><table border=\"1\" class=\"dataframe\"><thead><tr><th>hospital_id</th><th>hospital_name</th><th>hospital_state</th></tr><tr><td>i64</td><td>str</td><td>str</td></tr></thead><tbody><tr><td>0</td><td>&quot;Wallace-Hamilton&quot;</td><td>&quot;CO&quot;</td></tr><tr><td>1</td><td>&quot;Burke, Griffin and Cooper&quot;</td><td>&quot;NC&quot;</td></tr><tr><td>2</td><td>&quot;Walton LLC&quot;</td><td>&quot;FL&quot;</td></tr><tr><td>3</td><td>&quot;Garcia Ltd&quot;</td><td>&quot;NC&quot;</td></tr><tr><td>4</td><td>&quot;Jones, Brown and Murray&quot;</td><td>&quot;NC&quot;</td></tr></tbody></table></div>"
      ],
      "text/plain": [
       "shape: (5, 3)\n",
       "┌─────────────┬───────────────────────────┬────────────────┐\n",
       "│ hospital_id ┆ hospital_name             ┆ hospital_state │\n",
       "│ ---         ┆ ---                       ┆ ---            │\n",
       "│ i64         ┆ str                       ┆ str            │\n",
       "╞═════════════╪═══════════════════════════╪════════════════╡\n",
       "│ 0           ┆ Wallace-Hamilton          ┆ CO             │\n",
       "│ 1           ┆ Burke, Griffin and Cooper ┆ NC             │\n",
       "│ 2           ┆ Walton LLC                ┆ FL             │\n",
       "│ 3           ┆ Garcia Ltd                ┆ NC             │\n",
       "│ 4           ┆ Jones, Brown and Murray   ┆ NC             │\n",
       "└─────────────┴───────────────────────────┴────────────────┘"
      ]
     },
     "execution_count": 14,
     "metadata": {},
     "output_type": "execute_result"
    }
   ],
   "source": [
    "import polars as pl\n",
    "\n",
    "HOSPITAL_DATA_PATH = \"data/hospitals.csv\"\n",
    "data_hospitals = pl.read_csv(HOSPITAL_DATA_PATH)\n",
    "\n",
    "print(data_hospitals.shape)\n",
    "data_hospitals.head()\n",
    "\n",
    "\n"
   ]
  },
  {
   "cell_type": "code",
   "execution_count": 15,
   "metadata": {},
   "outputs": [
    {
     "name": "stdout",
     "output_type": "stream",
     "text": [
      "(500, 6)\n"
     ]
    },
    {
     "data": {
      "text/html": [
       "<div><style>\n",
       ".dataframe > thead > tr,\n",
       ".dataframe > tbody > tr {\n",
       "  text-align: right;\n",
       "  white-space: pre-wrap;\n",
       "}\n",
       "</style>\n",
       "<small>shape: (5, 6)</small><table border=\"1\" class=\"dataframe\"><thead><tr><th>physician_name</th><th>physician_id</th><th>physician_dob</th><th>physician_grad_year</th><th>medical_school</th><th>salary</th></tr><tr><td>str</td><td>i64</td><td>str</td><td>str</td><td>str</td><td>f64</td></tr></thead><tbody><tr><td>&quot;Joseph Johnson&quot;</td><td>0</td><td>&quot;1970-02-22&quot;</td><td>&quot;2000-02-22&quot;</td><td>&quot;Johns Hopkins University Schoo…</td><td>309534.155076</td></tr><tr><td>&quot;Jason Williams&quot;</td><td>1</td><td>&quot;1982-12-22&quot;</td><td>&quot;2012-12-22&quot;</td><td>&quot;Mayo Clinic Alix School of Med…</td><td>281114.503559</td></tr><tr><td>&quot;Jesse Gordon&quot;</td><td>2</td><td>&quot;1959-06-03&quot;</td><td>&quot;1989-06-03&quot;</td><td>&quot;David Geffen School of Medicin…</td><td>305845.584636</td></tr><tr><td>&quot;Heather Smith&quot;</td><td>3</td><td>&quot;1965-06-15&quot;</td><td>&quot;1995-06-15&quot;</td><td>&quot;NYU Grossman Medical School&quot;</td><td>295239.766689</td></tr><tr><td>&quot;Kayla Hunter DDS&quot;</td><td>4</td><td>&quot;1978-10-19&quot;</td><td>&quot;2008-10-19&quot;</td><td>&quot;David Geffen School of Medicin…</td><td>298751.355201</td></tr></tbody></table></div>"
      ],
      "text/plain": [
       "shape: (5, 6)\n",
       "┌─────────────────┬──────────────┬───────────────┬────────────────┬────────────────┬───────────────┐\n",
       "│ physician_name  ┆ physician_id ┆ physician_dob ┆ physician_grad ┆ medical_school ┆ salary        │\n",
       "│ ---             ┆ ---          ┆ ---           ┆ _year          ┆ ---            ┆ ---           │\n",
       "│ str             ┆ i64          ┆ str           ┆ ---            ┆ str            ┆ f64           │\n",
       "│                 ┆              ┆               ┆ str            ┆                ┆               │\n",
       "╞═════════════════╪══════════════╪═══════════════╪════════════════╪════════════════╪═══════════════╡\n",
       "│ Joseph Johnson  ┆ 0            ┆ 1970-02-22    ┆ 2000-02-22     ┆ Johns Hopkins  ┆ 309534.155076 │\n",
       "│                 ┆              ┆               ┆                ┆ University     ┆               │\n",
       "│                 ┆              ┆               ┆                ┆ Schoo…         ┆               │\n",
       "│ Jason Williams  ┆ 1            ┆ 1982-12-22    ┆ 2012-12-22     ┆ Mayo Clinic    ┆ 281114.503559 │\n",
       "│                 ┆              ┆               ┆                ┆ Alix School of ┆               │\n",
       "│                 ┆              ┆               ┆                ┆ Med…           ┆               │\n",
       "│ Jesse Gordon    ┆ 2            ┆ 1959-06-03    ┆ 1989-06-03     ┆ David Geffen   ┆ 305845.584636 │\n",
       "│                 ┆              ┆               ┆                ┆ School of      ┆               │\n",
       "│                 ┆              ┆               ┆                ┆ Medicin…       ┆               │\n",
       "│ Heather Smith   ┆ 3            ┆ 1965-06-15    ┆ 1995-06-15     ┆ NYU Grossman   ┆ 295239.766689 │\n",
       "│                 ┆              ┆               ┆                ┆ Medical School ┆               │\n",
       "│ Kayla Hunter    ┆ 4            ┆ 1978-10-19    ┆ 2008-10-19     ┆ David Geffen   ┆ 298751.355201 │\n",
       "│ DDS             ┆              ┆               ┆                ┆ School of      ┆               │\n",
       "│                 ┆              ┆               ┆                ┆ Medicin…       ┆               │\n",
       "└─────────────────┴──────────────┴───────────────┴────────────────┴────────────────┴───────────────┘"
      ]
     },
     "execution_count": 15,
     "metadata": {},
     "output_type": "execute_result"
    }
   ],
   "source": [
    "PHYSICIAN_DATA_PATH = \"data/physicians.csv\"\n",
    "data_physician = pl.read_csv(PHYSICIAN_DATA_PATH)\n",
    "\n",
    "print(data_physician.shape)\n",
    "\n",
    "\n",
    "data_physician.head()"
   ]
  },
  {
   "cell_type": "code",
   "execution_count": 19,
   "metadata": {},
   "outputs": [
    {
     "name": "stdout",
     "output_type": "stream",
     "text": [
      "(5, 2)\n"
     ]
    },
    {
     "data": {
      "text/html": [
       "<div><style>\n",
       ".dataframe > thead > tr,\n",
       ".dataframe > tbody > tr {\n",
       "  text-align: right;\n",
       "  white-space: pre-wrap;\n",
       "}\n",
       "</style>\n",
       "<small>shape: (5, 2)</small><table border=\"1\" class=\"dataframe\"><thead><tr><th>payer_name</th><th>payer_id</th></tr><tr><td>str</td><td>i64</td></tr></thead><tbody><tr><td>&quot;Medicaid&quot;</td><td>0</td></tr><tr><td>&quot;UnitedHealthcare&quot;</td><td>1</td></tr><tr><td>&quot;Aetna&quot;</td><td>2</td></tr><tr><td>&quot;Cigna&quot;</td><td>3</td></tr><tr><td>&quot;Blue Cross&quot;</td><td>4</td></tr></tbody></table></div>"
      ],
      "text/plain": [
       "shape: (5, 2)\n",
       "┌──────────────────┬──────────┐\n",
       "│ payer_name       ┆ payer_id │\n",
       "│ ---              ┆ ---      │\n",
       "│ str              ┆ i64      │\n",
       "╞══════════════════╪══════════╡\n",
       "│ Medicaid         ┆ 0        │\n",
       "│ UnitedHealthcare ┆ 1        │\n",
       "│ Aetna            ┆ 2        │\n",
       "│ Cigna            ┆ 3        │\n",
       "│ Blue Cross       ┆ 4        │\n",
       "└──────────────────┴──────────┘"
      ]
     },
     "execution_count": 19,
     "metadata": {},
     "output_type": "execute_result"
    }
   ],
   "source": [
    "PATH = \"data/payers.csv\"    # insurance companies\n",
    "data = pl.read_csv(PATH)\n",
    "print(data.shape)\n",
    "data.head()"
   ]
  },
  {
   "cell_type": "code",
   "execution_count": 20,
   "metadata": {},
   "outputs": [
    {
     "name": "stdout",
     "output_type": "stream",
     "text": [
      "(1005, 6)\n"
     ]
    },
    {
     "data": {
      "text/html": [
       "<div><style>\n",
       ".dataframe > thead > tr,\n",
       ".dataframe > tbody > tr {\n",
       "  text-align: right;\n",
       "  white-space: pre-wrap;\n",
       "}\n",
       "</style>\n",
       "<small>shape: (5, 6)</small><table border=\"1\" class=\"dataframe\"><thead><tr><th>review_id</th><th>visit_id</th><th>review</th><th>physician_name</th><th>hospital_name</th><th>patient_name</th></tr><tr><td>i64</td><td>i64</td><td>str</td><td>str</td><td>str</td><td>str</td></tr></thead><tbody><tr><td>0</td><td>6997</td><td>&quot;The medical staff at the hospi…</td><td>&quot;Laura Brown&quot;</td><td>&quot;Wallace-Hamilton&quot;</td><td>&quot;Christy Johnson&quot;</td></tr><tr><td>9</td><td>8138</td><td>&quot;The hospital&#x27;s commitment to p…</td><td>&quot;Steven Watson&quot;</td><td>&quot;Wallace-Hamilton&quot;</td><td>&quot;Anna Frazier&quot;</td></tr><tr><td>11</td><td>680</td><td>&quot;The hospital&#x27;s commitment to p…</td><td>&quot;Chase Mcpherson Jr.&quot;</td><td>&quot;Wallace-Hamilton&quot;</td><td>&quot;Abigail Mitchell&quot;</td></tr><tr><td>892</td><td>9846</td><td>&quot;I had a positive experience ov…</td><td>&quot;Jason Martinez&quot;</td><td>&quot;Wallace-Hamilton&quot;</td><td>&quot;Kimberly Rivas&quot;</td></tr><tr><td>822</td><td>7397</td><td>&quot;The medical team at the hospit…</td><td>&quot;Chelsey Davis&quot;</td><td>&quot;Wallace-Hamilton&quot;</td><td>&quot;Catherine Yang&quot;</td></tr></tbody></table></div>"
      ],
      "text/plain": [
       "shape: (5, 6)\n",
       "┌───────────┬──────────┬──────────────────┬──────────────────┬──────────────────┬──────────────────┐\n",
       "│ review_id ┆ visit_id ┆ review           ┆ physician_name   ┆ hospital_name    ┆ patient_name     │\n",
       "│ ---       ┆ ---      ┆ ---              ┆ ---              ┆ ---              ┆ ---              │\n",
       "│ i64       ┆ i64      ┆ str              ┆ str              ┆ str              ┆ str              │\n",
       "╞═══════════╪══════════╪══════════════════╪══════════════════╪══════════════════╪══════════════════╡\n",
       "│ 0         ┆ 6997     ┆ The medical      ┆ Laura Brown      ┆ Wallace-Hamilton ┆ Christy Johnson  │\n",
       "│           ┆          ┆ staff at the     ┆                  ┆                  ┆                  │\n",
       "│           ┆          ┆ hospi…           ┆                  ┆                  ┆                  │\n",
       "│ 9         ┆ 8138     ┆ The hospital's   ┆ Steven Watson    ┆ Wallace-Hamilton ┆ Anna Frazier     │\n",
       "│           ┆          ┆ commitment to p… ┆                  ┆                  ┆                  │\n",
       "│ 11        ┆ 680      ┆ The hospital's   ┆ Chase Mcpherson  ┆ Wallace-Hamilton ┆ Abigail Mitchell │\n",
       "│           ┆          ┆ commitment to p… ┆ Jr.              ┆                  ┆                  │\n",
       "│ 892       ┆ 9846     ┆ I had a positive ┆ Jason Martinez   ┆ Wallace-Hamilton ┆ Kimberly Rivas   │\n",
       "│           ┆          ┆ experience ov…   ┆                  ┆                  ┆                  │\n",
       "│ 822       ┆ 7397     ┆ The medical team ┆ Chelsey Davis    ┆ Wallace-Hamilton ┆ Catherine Yang   │\n",
       "│           ┆          ┆ at the hospit…   ┆                  ┆                  ┆                  │\n",
       "└───────────┴──────────┴──────────────────┴──────────────────┴──────────────────┴──────────────────┘"
      ]
     },
     "execution_count": 20,
     "metadata": {},
     "output_type": "execute_result"
    }
   ],
   "source": [
    "PATH = \"data/reviews.csv\"    # insurance companies\n",
    "data = pl.read_csv(PATH)\n",
    "print(data.shape)\n",
    "data.head()"
   ]
  },
  {
   "cell_type": "code",
   "execution_count": 21,
   "metadata": {},
   "outputs": [
    {
     "name": "stdout",
     "output_type": "stream",
     "text": [
      "(9998, 15)\n"
     ]
    },
    {
     "data": {
      "text/html": [
       "<div><style>\n",
       ".dataframe > thead > tr,\n",
       ".dataframe > tbody > tr {\n",
       "  text-align: right;\n",
       "  white-space: pre-wrap;\n",
       "}\n",
       "</style>\n",
       "<small>shape: (5, 15)</small><table border=\"1\" class=\"dataframe\"><thead><tr><th>patient_id</th><th>date_of_admission</th><th>billing_amount</th><th>room_number</th><th>admission_type</th><th>discharge_date</th><th>test_results</th><th>visit_id</th><th>physician_id</th><th>payer_id</th><th>hospital_id</th><th>chief_complaint</th><th>treatment_description</th><th>primary_diagnosis</th><th>visit_status</th></tr><tr><td>i64</td><td>str</td><td>f64</td><td>i64</td><td>str</td><td>str</td><td>str</td><td>i64</td><td>i64</td><td>i64</td><td>i64</td><td>str</td><td>str</td><td>str</td><td>str</td></tr></thead><tbody><tr><td>0</td><td>&quot;2022-11-17&quot;</td><td>37490.983364</td><td>146</td><td>&quot;Elective&quot;</td><td>&quot;2022-12-01&quot;</td><td>&quot;Inconclusive&quot;</td><td>0</td><td>102</td><td>1</td><td>0</td><td>null</td><td>null</td><td>null</td><td>&quot;DISCHARGED&quot;</td></tr><tr><td>1</td><td>&quot;2023-06-01&quot;</td><td>47304.064845</td><td>404</td><td>&quot;Emergency&quot;</td><td>null</td><td>&quot;Normal&quot;</td><td>1</td><td>435</td><td>4</td><td>5</td><td>null</td><td>null</td><td>null</td><td>&quot;OPEN&quot;</td></tr><tr><td>2</td><td>&quot;2019-01-09&quot;</td><td>36874.896997</td><td>292</td><td>&quot;Emergency&quot;</td><td>&quot;2019-02-08&quot;</td><td>&quot;Normal&quot;</td><td>2</td><td>348</td><td>2</td><td>6</td><td>null</td><td>null</td><td>null</td><td>&quot;DISCHARGED&quot;</td></tr><tr><td>3</td><td>&quot;2020-05-02&quot;</td><td>23303.322092</td><td>480</td><td>&quot;Urgent&quot;</td><td>&quot;2020-05-03&quot;</td><td>&quot;Abnormal&quot;</td><td>3</td><td>270</td><td>4</td><td>15</td><td>null</td><td>null</td><td>null</td><td>&quot;DISCHARGED&quot;</td></tr><tr><td>4</td><td>&quot;2021-07-09&quot;</td><td>18086.344184</td><td>477</td><td>&quot;Urgent&quot;</td><td>&quot;2021-08-02&quot;</td><td>&quot;Normal&quot;</td><td>4</td><td>106</td><td>2</td><td>29</td><td>&quot;Persistent cough and shortness…</td><td>&quot;Prescribed a combination of in…</td><td>&quot;J45.909 - Unspecified asthma, …</td><td>&quot;DISCHARGED&quot;</td></tr></tbody></table></div>"
      ],
      "text/plain": [
       "shape: (5, 15)\n",
       "┌───────────┬───────────┬───────────┬───────────┬───┬───────────┬───────────┬───────────┬──────────┐\n",
       "│ patient_i ┆ date_of_a ┆ billing_a ┆ room_numb ┆ … ┆ chief_com ┆ treatment ┆ primary_d ┆ visit_st │\n",
       "│ d         ┆ dmission  ┆ mount     ┆ er        ┆   ┆ plaint    ┆ _descript ┆ iagnosis  ┆ atus     │\n",
       "│ ---       ┆ ---       ┆ ---       ┆ ---       ┆   ┆ ---       ┆ ion       ┆ ---       ┆ ---      │\n",
       "│ i64       ┆ str       ┆ f64       ┆ i64       ┆   ┆ str       ┆ ---       ┆ str       ┆ str      │\n",
       "│           ┆           ┆           ┆           ┆   ┆           ┆ str       ┆           ┆          │\n",
       "╞═══════════╪═══════════╪═══════════╪═══════════╪═══╪═══════════╪═══════════╪═══════════╪══════════╡\n",
       "│ 0         ┆ 2022-11-1 ┆ 37490.983 ┆ 146       ┆ … ┆ null      ┆ null      ┆ null      ┆ DISCHARG │\n",
       "│           ┆ 7         ┆ 364       ┆           ┆   ┆           ┆           ┆           ┆ ED       │\n",
       "│ 1         ┆ 2023-06-0 ┆ 47304.064 ┆ 404       ┆ … ┆ null      ┆ null      ┆ null      ┆ OPEN     │\n",
       "│           ┆ 1         ┆ 845       ┆           ┆   ┆           ┆           ┆           ┆          │\n",
       "│ 2         ┆ 2019-01-0 ┆ 36874.896 ┆ 292       ┆ … ┆ null      ┆ null      ┆ null      ┆ DISCHARG │\n",
       "│           ┆ 9         ┆ 997       ┆           ┆   ┆           ┆           ┆           ┆ ED       │\n",
       "│ 3         ┆ 2020-05-0 ┆ 23303.322 ┆ 480       ┆ … ┆ null      ┆ null      ┆ null      ┆ DISCHARG │\n",
       "│           ┆ 2         ┆ 092       ┆           ┆   ┆           ┆           ┆           ┆ ED       │\n",
       "│ 4         ┆ 2021-07-0 ┆ 18086.344 ┆ 477       ┆ … ┆ Persisten ┆ Prescribe ┆ J45.909 - ┆ DISCHARG │\n",
       "│           ┆ 9         ┆ 184       ┆           ┆   ┆ t cough   ┆ d a combi ┆ Unspecifi ┆ ED       │\n",
       "│           ┆           ┆           ┆           ┆   ┆ and short ┆ nation of ┆ ed        ┆          │\n",
       "│           ┆           ┆           ┆           ┆   ┆ ness…     ┆ in…       ┆ asthma, … ┆          │\n",
       "└───────────┴───────────┴───────────┴───────────┴───┴───────────┴───────────┴───────────┴──────────┘"
      ]
     },
     "execution_count": 21,
     "metadata": {},
     "output_type": "execute_result"
    }
   ],
   "source": [
    "PATH = \"data/visits.csv\"    # insurance companies\n",
    "data = pl.read_csv(PATH)\n",
    "print(data.shape)\n",
    "data.head()"
   ]
  },
  {
   "cell_type": "code",
   "execution_count": null,
   "metadata": {},
   "outputs": [],
   "source": []
  }
 ],
 "metadata": {
  "kernelspec": {
   "display_name": "Python 3 (ipykernel)",
   "language": "python",
   "name": "python3"
  }
 },
 "nbformat": 4,
 "nbformat_minor": 2
}
